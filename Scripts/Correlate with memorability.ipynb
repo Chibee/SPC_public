{
 "cells": [
  {
   "cell_type": "code",
   "execution_count": 1,
   "metadata": {},
   "outputs": [],
   "source": [
    "import numpy as np\n",
    "import pandas as pd\n",
    "from scipy import stats\n",
    "import statsmodels.api as sm\n",
    "import os"
   ]
  },
  {
   "cell_type": "code",
   "execution_count": 2,
   "metadata": {},
   "outputs": [],
   "source": [
    "# Specify the directories and layer information\n",
    "results_dir = '../Results/'\n",
    "dist_layer = 5\n",
    "RE_layer = 7\n",
    "layer_list = ['block1_pool','block2_pool','block3_pool','block4_pool','block5_pool','fc1','fc2']"
   ]
  },
  {
   "cell_type": "code",
   "execution_count": 3,
   "metadata": {},
   "outputs": [],
   "source": [
    "# Load the distinctiveness measure\n",
    "DCNN_df = pd.read_csv(os.path.join(results_dir,\n",
    "                                  'Dist',\n",
    "                                  '{}_NN.csv'.format(layer_list[dist_layer-1])),\n",
    "                     header=None, names=['img', 'NN', 'dist'])"
   ]
  },
  {
   "cell_type": "code",
   "execution_count": 4,
   "metadata": {},
   "outputs": [],
   "source": [
    "# Load the reconstruction error measure\n",
    "RE_data = np.load(os.path.join(results_dir, \n",
    "                              'RE',\n",
    "                              '{}'.format(layer_list[RE_layer-1]),\n",
    "                              'spc_rec_quality.npy'))\n",
    "RE_df = pd.DataFrame(RE_data, columns=['RE'])\n",
    "RE_df['img'] = range(1, 2223)"
   ]
  },
  {
   "cell_type": "code",
   "execution_count": 5,
   "metadata": {},
   "outputs": [],
   "source": [
    "# Read the memorability scores from Isola et al. \n",
    "img_info = pd.read_csv('../Image_info/target_info_IsolaEtAl.csv').rename(columns={'im_ind':'img'})\n",
    "\n",
    "merge_df = RE_df.merge(DCNN_df).merge(img_info)"
   ]
  },
  {
   "cell_type": "code",
   "execution_count": 6,
   "metadata": {},
   "outputs": [],
   "source": [
    "# Define a function to run partial correlation\n",
    "def partial_corr(df, var1, var2, ctr_var):\n",
    "\n",
    "    X1 = sm.add_constant(df[ctr_var].values)\n",
    "    Y1 = df[var1].values\n",
    "    model1 = sm.OLS(Y1,X1)\n",
    "    results1 = model1.fit()\n",
    "    resid1 = results1.resid\n",
    "    \n",
    "    X2 = sm.add_constant(df[ctr_var].values)\n",
    "    Y2 = df[var2].values\n",
    "    model2 = sm.OLS(Y2,X2)\n",
    "    results2 = model2.fit()\n",
    "    resid2 = results2.resid\n",
    "    \n",
    "    return stats.pearsonr(resid1, resid2)[0]"
   ]
  },
  {
   "cell_type": "code",
   "execution_count": 7,
   "metadata": {},
   "outputs": [],
   "source": [
    "# Define functions to run bootstrapping\n",
    "def bootstrap_corr(df, var1, var2, n_iter=1000):\n",
    "    bootstrap_rs = []\n",
    "    for ii in range(n_iter):\n",
    "        _df = df.sample(n=len(df), replace=True)\n",
    "        curr_r, _ = stats.pearsonr(_df[var1], _df[var2])\n",
    "        bootstrap_rs.append(curr_r)\n",
    "    bootstrap_rs.sort()\n",
    "    return np.array(bootstrap_rs)\n",
    "\n",
    "def bootstrap_partcorr(df, var1, var2, ctr_var, n_iter=1000):\n",
    "    bootstrap_rs = []\n",
    "    for ii in range(n_iter):\n",
    "        _df = df.sample(n=len(df), replace=True)\n",
    "        curr_r = partial_corr(_df, var1, var2, ctr_var)\n",
    "        bootstrap_rs.append(curr_r)\n",
    "    bootstrap_rs.sort()\n",
    "    return np.array(bootstrap_rs)\n"
   ]
  },
  {
   "cell_type": "code",
   "execution_count": 8,
   "metadata": {},
   "outputs": [
    {
     "name": "stdout",
     "output_type": "stream",
     "text": [
      "Correlation between Layer 5 distinctiveness and memorability, 0.36\n",
      "\n",
      "Bootstrap 95% CI, [0.32, 0.4]\n",
      "\n",
      "Uncorrected two-tailed p value, < .001\n"
     ]
    }
   ],
   "source": [
    "corr_all = stats.pearsonr(merge_df['dist'], merge_df['corrected_hit'])[0]\n",
    "bootstrap_values = bootstrap_corr(merge_df, 'dist', 'corrected_hit')\n",
    "n_iter = 1000\n",
    "print('Correlation between Layer {} distinctiveness and memorability, {}\\n'.format(dist_layer,\n",
    "                                                                                  corr_all.round(2)))\n",
    "print('Bootstrap 95% CI, [{}, {}]\\n'.format(bootstrap_values[int(n_iter*0.025)].round(2),\n",
    "                                            bootstrap_values[int(n_iter*(1-0.025))].round(2)))\n",
    "p_value = np.min([np.sum(bootstrap_values<0),\n",
    "                 np.sum(bootstrap_values>0)])*2\n",
    "if p_value < 0.001:\n",
    "    print('Uncorrected two-tailed p value, < .001')\n",
    "else:\n",
    "    print('Uncorrected two-tailed p value,  {}'.format(p_value.round(3)))"
   ]
  },
  {
   "cell_type": "code",
   "execution_count": 9,
   "metadata": {},
   "outputs": [
    {
     "name": "stdout",
     "output_type": "stream",
     "text": [
      "Correlation between Layer 7 reconsctruction error and memorability, 0.29\n",
      "\n",
      "Bootstrap 95% CI, [0.26, 0.33]\n",
      "\n",
      "Uncorrected two-tailed p value, < .001\n"
     ]
    }
   ],
   "source": [
    "corr_all = stats.pearsonr(merge_df['RE'], merge_df['corrected_hit'])[0]\n",
    "bootstrap_values = bootstrap_corr(merge_df, 'RE', 'corrected_hit')\n",
    "n_iter = 1000\n",
    "print('Correlation between Layer {} reconsctruction error and memorability, {}\\n'.format(RE_layer,\n",
    "                                                                                  corr_all.round(2)))\n",
    "print('Bootstrap 95% CI, [{}, {}]\\n'.format(bootstrap_values[int(n_iter*0.025)].round(2),\n",
    "                                            bootstrap_values[int(n_iter*(1-0.025))].round(2)))\n",
    "p_value = np.min([np.sum(bootstrap_values<0),\n",
    "                 np.sum(bootstrap_values>0)])*2\n",
    "if p_value < 0.001:\n",
    "    print('Uncorrected two-tailed p value, < .001')\n",
    "else:\n",
    "    print('Uncorrected two-tailed p value,  {}'.format(p_value.round(3)))"
   ]
  },
  {
   "cell_type": "code",
   "execution_count": 10,
   "metadata": {},
   "outputs": [
    {
     "name": "stdout",
     "output_type": "stream",
     "text": [
      "Partial correlation between Layer 7 reconsctruction error and memorability (after controlling for Layer 5 distinctiveness), 0.16\n",
      "\n",
      "Bootstrap 95% CI, [0.11, 0.2]\n",
      "\n",
      "Uncorrected two-tailed p value, < .001\n"
     ]
    }
   ],
   "source": [
    "partcorr = partial_corr(merge_df, 'RE', 'corrected_hit', 'dist')\n",
    "bootstrap_values = bootstrap_partcorr(merge_df, 'RE', 'corrected_hit', 'dist')\n",
    "n_iter = 1000\n",
    "print('Partial correlation between Layer {} reconsctruction error and memorability (after controlling for Layer {} distinctiveness), {}\\n'.format(RE_layer,\n",
    "                                                                                                                                                  dist_layer,\n",
    "                                                                                  partcorr.round(2)))\n",
    "print('Bootstrap 95% CI, [{}, {}]\\n'.format(bootstrap_values[int(n_iter*0.025)].round(2),\n",
    "                                            bootstrap_values[int(n_iter*(1-0.025))].round(2)))\n",
    "p_value = np.min([np.sum(bootstrap_values<0),\n",
    "                 np.sum(bootstrap_values>0)])*2\n",
    "if p_value < 0.001:\n",
    "    print('Uncorrected two-tailed p value, < .001')\n",
    "else:\n",
    "    print('Uncorrected two-tailed p value,  {}'.format(p_value.round(3)))"
   ]
  },
  {
   "cell_type": "code",
   "execution_count": null,
   "metadata": {},
   "outputs": [],
   "source": []
  }
 ],
 "metadata": {
  "kernelspec": {
   "display_name": "Python 3",
   "language": "python",
   "name": "python3"
  },
  "language_info": {
   "codemirror_mode": {
    "name": "ipython",
    "version": 3
   },
   "file_extension": ".py",
   "mimetype": "text/x-python",
   "name": "python",
   "nbconvert_exporter": "python",
   "pygments_lexer": "ipython3",
   "version": "3.7.4"
  }
 },
 "nbformat": 4,
 "nbformat_minor": 5
}
